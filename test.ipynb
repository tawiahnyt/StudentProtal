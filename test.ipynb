{
 "cells": [
  {
   "cell_type": "code",
   "id": "initial_id",
   "metadata": {
    "collapsed": true,
    "ExecuteTime": {
     "end_time": "2024-06-16T10:53:51.571258Z",
     "start_time": "2024-06-16T10:53:51.559538Z"
    }
   },
   "source": "# from werkzeug.security import check_password_hash, generate_password_hash",
   "outputs": [],
   "execution_count": 1
  },
  {
   "metadata": {
    "ExecuteTime": {
     "end_time": "2024-06-16T10:53:51.741649Z",
     "start_time": "2024-06-16T10:53:51.737820Z"
    }
   },
   "cell_type": "code",
   "source": "",
   "id": "dfe433a71644dbd1",
   "outputs": [],
   "execution_count": 1
  },
  {
   "metadata": {
    "ExecuteTime": {
     "end_time": "2024-06-16T10:53:51.894634Z",
     "start_time": "2024-06-16T10:53:51.888736Z"
    }
   },
   "cell_type": "code",
   "source": [
    "# for password in passwords:\n",
    "#     hashed_password = generate_password_hash(password, method='pbkdf2:sha256', salt_length=8)\n",
    "#     print(hashed_password)"
   ],
   "id": "251bf401f586e554",
   "outputs": [],
   "execution_count": 2
  },
  {
   "metadata": {
    "ExecuteTime": {
     "end_time": "2024-06-16T10:53:52.138298Z",
     "start_time": "2024-06-16T10:53:52.113767Z"
    }
   },
   "cell_type": "code",
   "source": [
    "date = '2012-01'\n",
    "int(date.split('-')[0]) "
   ],
   "id": "d2dbf614f4de940",
   "outputs": [
    {
     "data": {
      "text/plain": [
       "2012"
      ]
     },
     "execution_count": 3,
     "metadata": {},
     "output_type": "execute_result"
    }
   ],
   "execution_count": 3
  },
  {
   "metadata": {
    "ExecuteTime": {
     "end_time": "2024-06-16T11:59:33.991600Z",
     "start_time": "2024-06-16T11:59:33.944305Z"
    }
   },
   "cell_type": "code",
   "source": [
    "import json\n",
    "file = 'courses.json'\n",
    "\n",
    "with open(file, 'r') as courses:\n",
    "    data = json.load(courses)\n",
    "\n",
    "l100_first_semester = data['BSc. Information Technology']['100']['first_semester']\n",
    "l100_second_semester = data['BSc. Information Technology']['100']['second_semester']\n",
    "l200_first_semester = data['BSc. Information Technology']['200']['first_semester']\n",
    "l200_second_semester = data['BSc. Information Technology']['200']['second_semester']\n",
    "l300_first_semester = data['BSc. Information Technology']['300']['first_semester']\n",
    "l300_second_semester = data['BSc. Information Technology']['300']['second_semester']\n",
    "\n",
    "\n",
    "l100b = l300_second_semester()\n",
    "for i in l100b:\n",
    "    print(f\"{i['course_code']}\")\n",
    "\n"
   ],
   "id": "39a0b974e23717e",
   "outputs": [
    {
     "name": "stdout",
     "output_type": "stream",
     "text": [
      "IT-308\n",
      "IT-302\n",
      "IT-324\n",
      "IT-344\n",
      "IT-306\n"
     ]
    }
   ],
   "execution_count": 9
  },
  {
   "metadata": {
    "ExecuteTime": {
     "end_time": "2024-06-13T18:03:16.521800Z",
     "start_time": "2024-06-13T18:03:16.427849Z"
    }
   },
   "cell_type": "code",
   "source": [
    "def count_email_domains(emails, urls):\n",
    "    domain_counts = {}\n",
    "\n",
    "    # Iterate through each email\n",
    "    for email in emails:\n",
    "        # Extract domain from email\n",
    "        domain = email.split('@')[-1]\n",
    "\n",
    "        # Check if the domain is associated with any URL\n",
    "        for url in urls:\n",
    "            if domain.startswith('www.') and url.endswith(domain[4:]):\n",
    "                # Increment domain count for the corresponding URL\n",
    "                domain_counts[url] = domain_counts.get(url, 0) + 1\n",
    "\n",
    "    return domain_counts\n",
    "\n",
    "# Example usage:\n",
    "result = count_email_domains(emails=['foo@a.com', 'bar@a.com', 'baz@b.com', 'qux@d.com'],\n",
    "                             urls=['www.a.com', 'www.b.com', 'www.c.com'])\n",
    "print(result)\n"
   ],
   "id": "84e85d3117b139a",
   "outputs": [
    {
     "name": "stdout",
     "output_type": "stream",
     "text": [
      "{}\n"
     ]
    }
   ],
   "execution_count": 10
  },
  {
   "metadata": {
    "ExecuteTime": {
     "end_time": "2024-06-14T14:13:09.322980Z",
     "start_time": "2024-06-14T14:13:09.303069Z"
    }
   },
   "cell_type": "code",
   "source": [
    "import json\n",
    "with open('courses.json') as data_file:\n",
    "    courses_data = json.load(data_file)\n",
    "\n",
    "# Get the student's level\n",
    "level = int(200)\n",
    "\n",
    "# Define the maximum level based on the student's current level\n",
    "max_level = min(level, 400)\n",
    "\n",
    "# Generate the range of levels to fetch courses\n",
    "levels_range = range(100, max_level + 100, 100)\n",
    "\n",
    "# Initialize an empty list to store the courses\n",
    "student_courses = []\n",
    "\n",
    "# Loop through the range of levels and fetch the corresponding courses for both semesters\n",
    "for level in levels_range:\n",
    "    for semester in ['first_semester', 'second_semester']:\n",
    "        courses = courses_data.get(str(level), {}).get(semester, [])\n",
    "        student_courses.extend(courses)\n",
    "        \n",
    "print(student_courses)"
   ],
   "id": "6cf703b84b8348b8",
   "outputs": [
    {
     "name": "stdout",
     "output_type": "stream",
     "text": [
      "[]\n"
     ]
    }
   ],
   "execution_count": 3
  },
  {
   "metadata": {
    "ExecuteTime": {
     "end_time": "2024-06-14T14:21:28.896089Z",
     "start_time": "2024-06-14T14:21:28.882578Z"
    }
   },
   "cell_type": "code",
   "source": "print(courses_data)",
   "id": "44785f9d357982e0",
   "outputs": [
    {
     "name": "stdout",
     "output_type": "stream",
     "text": [
      "{'BSc. Information Technology': {'100': {'first_semester': [{'course_code': 'MATH-173', 'course_title': 'COMPUTATIONAL MATHEMATICS', 'credit_hour': 3, 'lecturer': 'Dr. Alice Smith'}, {'course_code': 'MATH-171', 'course_title': 'DISCRETE STRUCTURES', 'credit_hour': 3, 'lecturer': 'Prof. John Doe'}, {'course_code': 'FREN-171', 'course_title': 'FUNCTIONAL FRENCH (I)', 'credit_hour': 2, 'lecturer': 'Dr. Emily Brown'}, {'course_code': 'IT-133', 'course_title': 'MICROCOMPUTER SYSTEMS AND APPLICATIONS', 'credit_hour': 3, 'lecturer': 'Prof. Michael Johnson'}, {'course_code': 'METS-173', 'course_title': 'MORAL AND ETHICS', 'credit_hour': 2, 'lecturer': 'Dr. Sarah Miller'}, {'course_code': 'IT-101', 'course_title': 'PRINCIPLES OF PROGRAMMING', 'credit_hour': 3, 'lecturer': 'Prof. David Wilson'}, {'course_code': 'SCOT-175', 'course_title': 'SOCIOLOGY OF TECHNOLOGY', 'credit_hour': 2, 'lecturer': 'Dr. Samantha Taylor'}], 'second_semester': [{'course_code': 'FREN-172', 'course_title': 'FUNCTIONAL FRENCH II', 'credit_hour': 2, 'lecturer': 'Prof. James Brown'}, {'course_code': 'IT-102', 'course_title': 'HIGH LEVEL LANGUAGE PROGRAMMING', 'credit_hour': 3, 'lecturer': 'Dr. Olivia White'}, {'course_code': 'IT-124', 'course_title': 'INTRODUCTION TO INFORMATION SYSTEMS', 'credit_hour': 3, 'lecturer': 'Prof. Richard Clark'}, {'course_code': 'IT-152', 'course_title': 'INTRODUCTION TO INFORMATION TECHNOLOGY LAW', 'credit_hour': 3, 'lecturer': 'Dr. Emma Thompson'}, {'course_code': 'MATH-176', 'course_title': 'PROBABILITY AND STATISTICS', 'credit_hour': 3, 'lecturer': 'Prof. Benjamin Harris'}, {'course_code': 'ENG-174', 'course_title': 'STUDY SKILLS', 'credit_hour': 2, 'lecturer': 'Dr. Daniel Martinez'}]}, '200': {'first_semester': [{'course_code': 'AFRS-271', 'course_title': 'AFRICAN STUDIES', 'credit_hour': 2, 'lecturer': 'Dr. Sophia Brown'}, {'course_code': 'IT-231', 'course_title': 'COMPUTER ARCHITECTURE', 'credit_hour': 3, 'lecturer': 'Prof. Olivia Wilson'}, {'course_code': 'IT-241', 'course_title': 'DATA COMMMUNICATIONS AND NETWORKS I', 'credit_hour': 3, 'lecturer': 'Dr. Matthew Evans'}, {'course_code': 'IT-245', 'course_title': 'FOUNDATIONS OF MULTIMEDIA', 'credit_hour': 3, 'lecturer': 'Prof. Jessica White'}, {'course_code': 'FREN-273', 'course_title': 'OPERATIONAL FRENCH', 'credit_hour': 2, 'lecturer': 'Dr. Nathan Clark'}, {'course_code': 'IT-221', 'course_title': 'SYSTEMS ANALYSIS AND DESIGN', 'credit_hour': 3, 'lecturer': 'Prof. Sophia Martinez'}, {'course_code': 'ENGL-275', 'course_title': 'TECHNICAL COMMUNICATION SKILLS', 'credit_hour': 2, 'lecturer': 'Dr. Benjamin Johnson'}], 'second_semester': [{'course_code': 'IT-206', 'course_title': 'ALGORITHMS AND DATA STRUCTURES', 'credit_hour': 3, 'lecturer': 'Prof. Isabella Harris'}, {'course_code': 'IT-274', 'course_title': 'BASIC ECONOMICS', 'credit_hour': 2, 'lecturer': 'Dr. William Martin'}, {'course_code': 'IT-242', 'course_title': 'DATA COMMUNICATIONS AND NETWORKS II', 'credit_hour': 3, 'lecturer': 'Prof. Emma Wilson'}, {'course_code': 'IT-222', 'course_title': 'DATABASE DESIGN AND MANAGEMENT I', 'credit_hour': 3, 'lecturer': 'Dr. Ethan Thompson'}, {'course_code': 'IT-232', 'course_title': 'DIGITAL COMPUTER DESIGN', 'credit_hour': 3, 'lecturer': 'Prof. Charlotte Garcia'}, {'course_code': 'IT-204', 'course_title': 'JAVA PROGRAMMING', 'credit_hour': 3, 'lecturer': 'Dr. Lucas White'}, {'course_code': 'IT-276', 'course_title': 'PRINCIPLES OF ENTREPRENEURSHIP', 'credit_hour': 2, 'lecturer': 'Prof. Olivia Johnson'}]}, '300': {'first_semester': [{'course_code': 'IT-323', 'course_title': 'DATABASE DESIGN AND MANAGEMENT (II)', 'credit_hour': 3, 'lecturer': 'Dr. Samuel Taylor'}, {'course_code': 'IT-343', 'course_title': 'INTERNET TECHNOLOGY AND WEB DESIGN', 'credit_hour': 3, 'lecturer': 'Prof. Mia Clark'}, {'course_code': 'IT-313', 'course_title': 'INTRODUCTION TO OPERATING SYSTEMS', 'credit_hour': 3, 'lecturer': 'Dr. Joshua Brown'}, {'course_code': 'IT-371', 'course_title': 'PRINCIPLES OF ACCOUNTING AND MANAGEMENT', 'credit_hour': 2, 'lecturer': 'Prof. Sophia Martinez'}, {'course_code': 'IT-391', 'course_title': 'RESEARCH METHODS', 'credit_hour': 3, 'lecturer': 'Dr. Ethan Harris'}, {'course_code': 'IT-305', 'course_title': 'SOFTWARE ENGINEERING', 'credit_hour': 3, 'lecturer': 'Prof. Olivia Wilson'}, {'course_code': 'IT-301', 'course_title': 'VISUAL BASIC PROGRAMMING', 'credit_hour': 3, 'lecturer': 'Dr. William Martin'}], 'second_semester': [{'course_code': 'IT-308', 'course_title': 'ADVANCED JAVA TECHNOLOGIES', 'credit_hour': 3, 'lecturer': 'Dr. Isabella Harris'}, {'course_code': 'IT-302', 'course_title': 'ADVANCED VISUAL BASIC . NET PROGRAMMING', 'credit_hour': 3, 'lecturer': 'Prof. Daniel Johnson'}, {'course_code': 'IT-324', 'course_title': 'HUMAN COMPUTER INTERACTION', 'credit_hour': 3, 'lecturer': 'Dr. Charlotte Garcia'}, {'course_code': 'IT-344', 'course_title': 'OPEN SOURCE OPERATING SYSTEMS', 'credit_hour': 3, 'lecturer': 'Prof. Mia Thompson'}, {'course_code': 'IT-306', 'course_title': 'SOFTWARE RELIABILITY AND QUALITY ASSURANCE', 'credit_hour': 3, 'lecturer': 'Dr. Lucas Martin'}]}, '400': {'first_semester': [{'course_code': 'IT-413', 'course_title': 'ARTIFICIAL INTELLIGENCE', 'credit_hour': 3, 'lecturer': 'Dr. Benjamin Garcia'}, {'course_code': 'IT-411', 'course_title': 'COMPILERS AND TRANSLATORS', 'credit_hour': 3, 'lecturer': 'Prof. Isabella Johnson'}, {'course_code': 'IT-461', 'course_title': 'HUMAN RESOURCE DEVELOPMENT', 'credit_hour': 3, 'lecturer': 'Dr. Ethan Brown'}, {'course_code': 'IT-463', 'course_title': 'INFORMATION TECHNOLOGY PROJECT MANAGEMENT', 'credit_hour': 3, 'lecturer': 'Prof. Sophia Martinez'}, {'course_code': 'IT-451', 'course_title': 'LEGAL AND ETHICAL USE OF INFORMATION TECHNOLOG', 'credit_hour': 3, 'lecturer': 'Dr. William Thompson'}], 'second_semester': [{'course_code': 'IT-413', 'course_title': 'ARTIFICIAL INTELLIGENCE', 'credit_hour': 3, 'lecturer': 'Dr. Benjamin Garcia'}, {'course_code': 'IT-411', 'course_title': 'COMPILERS AND TRANSLATORS', 'credit_hour': 3, 'lecturer': 'Prof. Isabella Johnson'}, {'course_code': 'IT-461', 'course_title': 'HUMAN RESOURCE DEVELOPMENT', 'credit_hour': 3, 'lecturer': 'Dr. Ethan Brown'}, {'course_code': 'IT-463', 'course_title': 'INFORMATION TECHNOLOGY PROJECT MANAGEMENT', 'credit_hour': 3, 'lecturer': 'Prof. Sophia Martinez'}, {'course_code': 'IT-451', 'course_title': 'LEGAL AND ETHICAL USE OF INFORMATION TECHNOLOG', 'credit_hour': 3, 'lecturer': 'Dr. William Thompson'}]}}}\n"
     ]
    }
   ],
   "execution_count": 4
  },
  {
   "metadata": {
    "ExecuteTime": {
     "end_time": "2024-06-14T14:22:16.645345Z",
     "start_time": "2024-06-14T14:22:16.636997Z"
    }
   },
   "cell_type": "code",
   "source": "student_courses",
   "id": "21874c498dfaeccc",
   "outputs": [
    {
     "data": {
      "text/plain": [
       "[]"
      ]
     },
     "execution_count": 5,
     "metadata": {},
     "output_type": "execute_result"
    }
   ],
   "execution_count": 5
  },
  {
   "metadata": {
    "ExecuteTime": {
     "end_time": "2024-06-14T14:22:28.755833Z",
     "start_time": "2024-06-14T14:22:28.739505Z"
    }
   },
   "cell_type": "code",
   "source": "courses_data",
   "id": "9e623b817943eb50",
   "outputs": [
    {
     "data": {
      "text/plain": [
       "{'BSc. Information Technology': {'100': {'first_semester': [{'course_code': 'MATH-173',\n",
       "     'course_title': 'COMPUTATIONAL MATHEMATICS',\n",
       "     'credit_hour': 3,\n",
       "     'lecturer': 'Dr. Alice Smith'},\n",
       "    {'course_code': 'MATH-171',\n",
       "     'course_title': 'DISCRETE STRUCTURES',\n",
       "     'credit_hour': 3,\n",
       "     'lecturer': 'Prof. John Doe'},\n",
       "    {'course_code': 'FREN-171',\n",
       "     'course_title': 'FUNCTIONAL FRENCH (I)',\n",
       "     'credit_hour': 2,\n",
       "     'lecturer': 'Dr. Emily Brown'},\n",
       "    {'course_code': 'IT-133',\n",
       "     'course_title': 'MICROCOMPUTER SYSTEMS AND APPLICATIONS',\n",
       "     'credit_hour': 3,\n",
       "     'lecturer': 'Prof. Michael Johnson'},\n",
       "    {'course_code': 'METS-173',\n",
       "     'course_title': 'MORAL AND ETHICS',\n",
       "     'credit_hour': 2,\n",
       "     'lecturer': 'Dr. Sarah Miller'},\n",
       "    {'course_code': 'IT-101',\n",
       "     'course_title': 'PRINCIPLES OF PROGRAMMING',\n",
       "     'credit_hour': 3,\n",
       "     'lecturer': 'Prof. David Wilson'},\n",
       "    {'course_code': 'SCOT-175',\n",
       "     'course_title': 'SOCIOLOGY OF TECHNOLOGY',\n",
       "     'credit_hour': 2,\n",
       "     'lecturer': 'Dr. Samantha Taylor'}],\n",
       "   'second_semester': [{'course_code': 'FREN-172',\n",
       "     'course_title': 'FUNCTIONAL FRENCH II',\n",
       "     'credit_hour': 2,\n",
       "     'lecturer': 'Prof. James Brown'},\n",
       "    {'course_code': 'IT-102',\n",
       "     'course_title': 'HIGH LEVEL LANGUAGE PROGRAMMING',\n",
       "     'credit_hour': 3,\n",
       "     'lecturer': 'Dr. Olivia White'},\n",
       "    {'course_code': 'IT-124',\n",
       "     'course_title': 'INTRODUCTION TO INFORMATION SYSTEMS',\n",
       "     'credit_hour': 3,\n",
       "     'lecturer': 'Prof. Richard Clark'},\n",
       "    {'course_code': 'IT-152',\n",
       "     'course_title': 'INTRODUCTION TO INFORMATION TECHNOLOGY LAW',\n",
       "     'credit_hour': 3,\n",
       "     'lecturer': 'Dr. Emma Thompson'},\n",
       "    {'course_code': 'MATH-176',\n",
       "     'course_title': 'PROBABILITY AND STATISTICS',\n",
       "     'credit_hour': 3,\n",
       "     'lecturer': 'Prof. Benjamin Harris'},\n",
       "    {'course_code': 'ENG-174',\n",
       "     'course_title': 'STUDY SKILLS',\n",
       "     'credit_hour': 2,\n",
       "     'lecturer': 'Dr. Daniel Martinez'}]},\n",
       "  '200': {'first_semester': [{'course_code': 'AFRS-271',\n",
       "     'course_title': 'AFRICAN STUDIES',\n",
       "     'credit_hour': 2,\n",
       "     'lecturer': 'Dr. Sophia Brown'},\n",
       "    {'course_code': 'IT-231',\n",
       "     'course_title': 'COMPUTER ARCHITECTURE',\n",
       "     'credit_hour': 3,\n",
       "     'lecturer': 'Prof. Olivia Wilson'},\n",
       "    {'course_code': 'IT-241',\n",
       "     'course_title': 'DATA COMMMUNICATIONS AND NETWORKS I',\n",
       "     'credit_hour': 3,\n",
       "     'lecturer': 'Dr. Matthew Evans'},\n",
       "    {'course_code': 'IT-245',\n",
       "     'course_title': 'FOUNDATIONS OF MULTIMEDIA',\n",
       "     'credit_hour': 3,\n",
       "     'lecturer': 'Prof. Jessica White'},\n",
       "    {'course_code': 'FREN-273',\n",
       "     'course_title': 'OPERATIONAL FRENCH',\n",
       "     'credit_hour': 2,\n",
       "     'lecturer': 'Dr. Nathan Clark'},\n",
       "    {'course_code': 'IT-221',\n",
       "     'course_title': 'SYSTEMS ANALYSIS AND DESIGN',\n",
       "     'credit_hour': 3,\n",
       "     'lecturer': 'Prof. Sophia Martinez'},\n",
       "    {'course_code': 'ENGL-275',\n",
       "     'course_title': 'TECHNICAL COMMUNICATION SKILLS',\n",
       "     'credit_hour': 2,\n",
       "     'lecturer': 'Dr. Benjamin Johnson'}],\n",
       "   'second_semester': [{'course_code': 'IT-206',\n",
       "     'course_title': 'ALGORITHMS AND DATA STRUCTURES',\n",
       "     'credit_hour': 3,\n",
       "     'lecturer': 'Prof. Isabella Harris'},\n",
       "    {'course_code': 'IT-274',\n",
       "     'course_title': 'BASIC ECONOMICS',\n",
       "     'credit_hour': 2,\n",
       "     'lecturer': 'Dr. William Martin'},\n",
       "    {'course_code': 'IT-242',\n",
       "     'course_title': 'DATA COMMUNICATIONS AND NETWORKS II',\n",
       "     'credit_hour': 3,\n",
       "     'lecturer': 'Prof. Emma Wilson'},\n",
       "    {'course_code': 'IT-222',\n",
       "     'course_title': 'DATABASE DESIGN AND MANAGEMENT I',\n",
       "     'credit_hour': 3,\n",
       "     'lecturer': 'Dr. Ethan Thompson'},\n",
       "    {'course_code': 'IT-232',\n",
       "     'course_title': 'DIGITAL COMPUTER DESIGN',\n",
       "     'credit_hour': 3,\n",
       "     'lecturer': 'Prof. Charlotte Garcia'},\n",
       "    {'course_code': 'IT-204',\n",
       "     'course_title': 'JAVA PROGRAMMING',\n",
       "     'credit_hour': 3,\n",
       "     'lecturer': 'Dr. Lucas White'},\n",
       "    {'course_code': 'IT-276',\n",
       "     'course_title': 'PRINCIPLES OF ENTREPRENEURSHIP',\n",
       "     'credit_hour': 2,\n",
       "     'lecturer': 'Prof. Olivia Johnson'}]},\n",
       "  '300': {'first_semester': [{'course_code': 'IT-323',\n",
       "     'course_title': 'DATABASE DESIGN AND MANAGEMENT (II)',\n",
       "     'credit_hour': 3,\n",
       "     'lecturer': 'Dr. Samuel Taylor'},\n",
       "    {'course_code': 'IT-343',\n",
       "     'course_title': 'INTERNET TECHNOLOGY AND WEB DESIGN',\n",
       "     'credit_hour': 3,\n",
       "     'lecturer': 'Prof. Mia Clark'},\n",
       "    {'course_code': 'IT-313',\n",
       "     'course_title': 'INTRODUCTION TO OPERATING SYSTEMS',\n",
       "     'credit_hour': 3,\n",
       "     'lecturer': 'Dr. Joshua Brown'},\n",
       "    {'course_code': 'IT-371',\n",
       "     'course_title': 'PRINCIPLES OF ACCOUNTING AND MANAGEMENT',\n",
       "     'credit_hour': 2,\n",
       "     'lecturer': 'Prof. Sophia Martinez'},\n",
       "    {'course_code': 'IT-391',\n",
       "     'course_title': 'RESEARCH METHODS',\n",
       "     'credit_hour': 3,\n",
       "     'lecturer': 'Dr. Ethan Harris'},\n",
       "    {'course_code': 'IT-305',\n",
       "     'course_title': 'SOFTWARE ENGINEERING',\n",
       "     'credit_hour': 3,\n",
       "     'lecturer': 'Prof. Olivia Wilson'},\n",
       "    {'course_code': 'IT-301',\n",
       "     'course_title': 'VISUAL BASIC PROGRAMMING',\n",
       "     'credit_hour': 3,\n",
       "     'lecturer': 'Dr. William Martin'}],\n",
       "   'second_semester': [{'course_code': 'IT-308',\n",
       "     'course_title': 'ADVANCED JAVA TECHNOLOGIES',\n",
       "     'credit_hour': 3,\n",
       "     'lecturer': 'Dr. Isabella Harris'},\n",
       "    {'course_code': 'IT-302',\n",
       "     'course_title': 'ADVANCED VISUAL BASIC . NET PROGRAMMING',\n",
       "     'credit_hour': 3,\n",
       "     'lecturer': 'Prof. Daniel Johnson'},\n",
       "    {'course_code': 'IT-324',\n",
       "     'course_title': 'HUMAN COMPUTER INTERACTION',\n",
       "     'credit_hour': 3,\n",
       "     'lecturer': 'Dr. Charlotte Garcia'},\n",
       "    {'course_code': 'IT-344',\n",
       "     'course_title': 'OPEN SOURCE OPERATING SYSTEMS',\n",
       "     'credit_hour': 3,\n",
       "     'lecturer': 'Prof. Mia Thompson'},\n",
       "    {'course_code': 'IT-306',\n",
       "     'course_title': 'SOFTWARE RELIABILITY AND QUALITY ASSURANCE',\n",
       "     'credit_hour': 3,\n",
       "     'lecturer': 'Dr. Lucas Martin'}]},\n",
       "  '400': {'first_semester': [{'course_code': 'IT-413',\n",
       "     'course_title': 'ARTIFICIAL INTELLIGENCE',\n",
       "     'credit_hour': 3,\n",
       "     'lecturer': 'Dr. Benjamin Garcia'},\n",
       "    {'course_code': 'IT-411',\n",
       "     'course_title': 'COMPILERS AND TRANSLATORS',\n",
       "     'credit_hour': 3,\n",
       "     'lecturer': 'Prof. Isabella Johnson'},\n",
       "    {'course_code': 'IT-461',\n",
       "     'course_title': 'HUMAN RESOURCE DEVELOPMENT',\n",
       "     'credit_hour': 3,\n",
       "     'lecturer': 'Dr. Ethan Brown'},\n",
       "    {'course_code': 'IT-463',\n",
       "     'course_title': 'INFORMATION TECHNOLOGY PROJECT MANAGEMENT',\n",
       "     'credit_hour': 3,\n",
       "     'lecturer': 'Prof. Sophia Martinez'},\n",
       "    {'course_code': 'IT-451',\n",
       "     'course_title': 'LEGAL AND ETHICAL USE OF INFORMATION TECHNOLOG',\n",
       "     'credit_hour': 3,\n",
       "     'lecturer': 'Dr. William Thompson'}],\n",
       "   'second_semester': [{'course_code': 'IT-413',\n",
       "     'course_title': 'ARTIFICIAL INTELLIGENCE',\n",
       "     'credit_hour': 3,\n",
       "     'lecturer': 'Dr. Benjamin Garcia'},\n",
       "    {'course_code': 'IT-411',\n",
       "     'course_title': 'COMPILERS AND TRANSLATORS',\n",
       "     'credit_hour': 3,\n",
       "     'lecturer': 'Prof. Isabella Johnson'},\n",
       "    {'course_code': 'IT-461',\n",
       "     'course_title': 'HUMAN RESOURCE DEVELOPMENT',\n",
       "     'credit_hour': 3,\n",
       "     'lecturer': 'Dr. Ethan Brown'},\n",
       "    {'course_code': 'IT-463',\n",
       "     'course_title': 'INFORMATION TECHNOLOGY PROJECT MANAGEMENT',\n",
       "     'credit_hour': 3,\n",
       "     'lecturer': 'Prof. Sophia Martinez'},\n",
       "    {'course_code': 'IT-451',\n",
       "     'course_title': 'LEGAL AND ETHICAL USE OF INFORMATION TECHNOLOG',\n",
       "     'credit_hour': 3,\n",
       "     'lecturer': 'Dr. William Thompson'}]}}}"
      ]
     },
     "execution_count": 6,
     "metadata": {},
     "output_type": "execute_result"
    }
   ],
   "execution_count": 6
  },
  {
   "metadata": {
    "ExecuteTime": {
     "end_time": "2024-06-14T14:24:07.669252Z",
     "start_time": "2024-06-14T14:24:07.632798Z"
    }
   },
   "cell_type": "code",
   "source": [
    "for levels, c in courses_data['BSc. Information Technology']:\n",
    "    print(levels.c)"
   ],
   "id": "b2c096fd0289df68",
   "outputs": [
    {
     "ename": "ValueError",
     "evalue": "too many values to unpack (expected 2)",
     "output_type": "error",
     "traceback": [
      "\u001B[1;31m---------------------------------------------------------------------------\u001B[0m",
      "\u001B[1;31mValueError\u001B[0m                                Traceback (most recent call last)",
      "Cell \u001B[1;32mIn[9], line 1\u001B[0m\n\u001B[1;32m----> 1\u001B[0m \u001B[38;5;28;01mfor\u001B[39;00m levels, c \u001B[38;5;129;01min\u001B[39;00m courses_data[\u001B[38;5;124m'\u001B[39m\u001B[38;5;124mBSc. Information Technology\u001B[39m\u001B[38;5;124m'\u001B[39m]:\n\u001B[0;32m      2\u001B[0m     \u001B[38;5;28mprint\u001B[39m(levels\u001B[38;5;241m.\u001B[39mc)\n",
      "\u001B[1;31mValueError\u001B[0m: too many values to unpack (expected 2)"
     ]
    }
   ],
   "execution_count": 9
  },
  {
   "metadata": {
    "ExecuteTime": {
     "end_time": "2024-06-14T16:00:09.486114Z",
     "start_time": "2024-06-14T16:00:09.475180Z"
    }
   },
   "cell_type": "code",
   "source": [
    "for levels, semesters in courses_data['BSc. Information Technology']['100'].items():\n",
    "    for i in semesters:\n",
    "        print(i)"
   ],
   "id": "2558b9b1e2eda6a",
   "outputs": [
    {
     "name": "stdout",
     "output_type": "stream",
     "text": [
      "{'course_code': 'MATH-173', 'course_title': 'COMPUTATIONAL MATHEMATICS', 'credit_hour': 3, 'lecturer': 'Dr. Alice Smith'}\n",
      "{'course_code': 'MATH-171', 'course_title': 'DISCRETE STRUCTURES', 'credit_hour': 3, 'lecturer': 'Prof. John Doe'}\n",
      "{'course_code': 'FREN-171', 'course_title': 'FUNCTIONAL FRENCH (I)', 'credit_hour': 2, 'lecturer': 'Dr. Emily Brown'}\n",
      "{'course_code': 'IT-133', 'course_title': 'MICROCOMPUTER SYSTEMS AND APPLICATIONS', 'credit_hour': 3, 'lecturer': 'Prof. Michael Johnson'}\n",
      "{'course_code': 'METS-173', 'course_title': 'MORAL AND ETHICS', 'credit_hour': 2, 'lecturer': 'Dr. Sarah Miller'}\n",
      "{'course_code': 'IT-101', 'course_title': 'PRINCIPLES OF PROGRAMMING', 'credit_hour': 3, 'lecturer': 'Prof. David Wilson'}\n",
      "{'course_code': 'SCOT-175', 'course_title': 'SOCIOLOGY OF TECHNOLOGY', 'credit_hour': 2, 'lecturer': 'Dr. Samantha Taylor'}\n",
      "{'course_code': 'FREN-172', 'course_title': 'FUNCTIONAL FRENCH II', 'credit_hour': 2, 'lecturer': 'Prof. James Brown'}\n",
      "{'course_code': 'IT-102', 'course_title': 'HIGH LEVEL LANGUAGE PROGRAMMING', 'credit_hour': 3, 'lecturer': 'Dr. Olivia White'}\n",
      "{'course_code': 'IT-124', 'course_title': 'INTRODUCTION TO INFORMATION SYSTEMS', 'credit_hour': 3, 'lecturer': 'Prof. Richard Clark'}\n",
      "{'course_code': 'IT-152', 'course_title': 'INTRODUCTION TO INFORMATION TECHNOLOGY LAW', 'credit_hour': 3, 'lecturer': 'Dr. Emma Thompson'}\n",
      "{'course_code': 'MATH-176', 'course_title': 'PROBABILITY AND STATISTICS', 'credit_hour': 3, 'lecturer': 'Prof. Benjamin Harris'}\n",
      "{'course_code': 'ENG-174', 'course_title': 'STUDY SKILLS', 'credit_hour': 2, 'lecturer': 'Dr. Daniel Martinez'}\n"
     ]
    }
   ],
   "execution_count": 32
  },
  {
   "metadata": {
    "ExecuteTime": {
     "end_time": "2024-06-14T16:00:27.458967Z",
     "start_time": "2024-06-14T16:00:27.442775Z"
    }
   },
   "cell_type": "code",
   "source": [
    "data = courses_data['BSc. Information Technology']['100']\n",
    "data"
   ],
   "id": "5bda74df98232e6d",
   "outputs": [
    {
     "data": {
      "text/plain": [
       "{'first_semester': [{'course_code': 'MATH-173',\n",
       "   'course_title': 'COMPUTATIONAL MATHEMATICS',\n",
       "   'credit_hour': 3,\n",
       "   'lecturer': 'Dr. Alice Smith'},\n",
       "  {'course_code': 'MATH-171',\n",
       "   'course_title': 'DISCRETE STRUCTURES',\n",
       "   'credit_hour': 3,\n",
       "   'lecturer': 'Prof. John Doe'},\n",
       "  {'course_code': 'FREN-171',\n",
       "   'course_title': 'FUNCTIONAL FRENCH (I)',\n",
       "   'credit_hour': 2,\n",
       "   'lecturer': 'Dr. Emily Brown'},\n",
       "  {'course_code': 'IT-133',\n",
       "   'course_title': 'MICROCOMPUTER SYSTEMS AND APPLICATIONS',\n",
       "   'credit_hour': 3,\n",
       "   'lecturer': 'Prof. Michael Johnson'},\n",
       "  {'course_code': 'METS-173',\n",
       "   'course_title': 'MORAL AND ETHICS',\n",
       "   'credit_hour': 2,\n",
       "   'lecturer': 'Dr. Sarah Miller'},\n",
       "  {'course_code': 'IT-101',\n",
       "   'course_title': 'PRINCIPLES OF PROGRAMMING',\n",
       "   'credit_hour': 3,\n",
       "   'lecturer': 'Prof. David Wilson'},\n",
       "  {'course_code': 'SCOT-175',\n",
       "   'course_title': 'SOCIOLOGY OF TECHNOLOGY',\n",
       "   'credit_hour': 2,\n",
       "   'lecturer': 'Dr. Samantha Taylor'}],\n",
       " 'second_semester': [{'course_code': 'FREN-172',\n",
       "   'course_title': 'FUNCTIONAL FRENCH II',\n",
       "   'credit_hour': 2,\n",
       "   'lecturer': 'Prof. James Brown'},\n",
       "  {'course_code': 'IT-102',\n",
       "   'course_title': 'HIGH LEVEL LANGUAGE PROGRAMMING',\n",
       "   'credit_hour': 3,\n",
       "   'lecturer': 'Dr. Olivia White'},\n",
       "  {'course_code': 'IT-124',\n",
       "   'course_title': 'INTRODUCTION TO INFORMATION SYSTEMS',\n",
       "   'credit_hour': 3,\n",
       "   'lecturer': 'Prof. Richard Clark'},\n",
       "  {'course_code': 'IT-152',\n",
       "   'course_title': 'INTRODUCTION TO INFORMATION TECHNOLOGY LAW',\n",
       "   'credit_hour': 3,\n",
       "   'lecturer': 'Dr. Emma Thompson'},\n",
       "  {'course_code': 'MATH-176',\n",
       "   'course_title': 'PROBABILITY AND STATISTICS',\n",
       "   'credit_hour': 3,\n",
       "   'lecturer': 'Prof. Benjamin Harris'},\n",
       "  {'course_code': 'ENG-174',\n",
       "   'course_title': 'STUDY SKILLS',\n",
       "   'credit_hour': 2,\n",
       "   'lecturer': 'Dr. Daniel Martinez'}]}"
      ]
     },
     "execution_count": 33,
     "metadata": {},
     "output_type": "execute_result"
    }
   ],
   "execution_count": 33
  },
  {
   "metadata": {
    "ExecuteTime": {
     "end_time": "2024-06-14T16:01:10.260275Z",
     "start_time": "2024-06-14T16:01:10.246981Z"
    }
   },
   "cell_type": "code",
   "source": "data['first_semester']\n",
   "id": "c1b99c89d87fb0b6",
   "outputs": [
    {
     "data": {
      "text/plain": [
       "[{'course_code': 'MATH-173',\n",
       "  'course_title': 'COMPUTATIONAL MATHEMATICS',\n",
       "  'credit_hour': 3,\n",
       "  'lecturer': 'Dr. Alice Smith'},\n",
       " {'course_code': 'MATH-171',\n",
       "  'course_title': 'DISCRETE STRUCTURES',\n",
       "  'credit_hour': 3,\n",
       "  'lecturer': 'Prof. John Doe'},\n",
       " {'course_code': 'FREN-171',\n",
       "  'course_title': 'FUNCTIONAL FRENCH (I)',\n",
       "  'credit_hour': 2,\n",
       "  'lecturer': 'Dr. Emily Brown'},\n",
       " {'course_code': 'IT-133',\n",
       "  'course_title': 'MICROCOMPUTER SYSTEMS AND APPLICATIONS',\n",
       "  'credit_hour': 3,\n",
       "  'lecturer': 'Prof. Michael Johnson'},\n",
       " {'course_code': 'METS-173',\n",
       "  'course_title': 'MORAL AND ETHICS',\n",
       "  'credit_hour': 2,\n",
       "  'lecturer': 'Dr. Sarah Miller'},\n",
       " {'course_code': 'IT-101',\n",
       "  'course_title': 'PRINCIPLES OF PROGRAMMING',\n",
       "  'credit_hour': 3,\n",
       "  'lecturer': 'Prof. David Wilson'},\n",
       " {'course_code': 'SCOT-175',\n",
       "  'course_title': 'SOCIOLOGY OF TECHNOLOGY',\n",
       "  'credit_hour': 2,\n",
       "  'lecturer': 'Dr. Samantha Taylor'}]"
      ]
     },
     "execution_count": 35,
     "metadata": {},
     "output_type": "execute_result"
    }
   ],
   "execution_count": 35
  },
  {
   "metadata": {},
   "cell_type": "code",
   "outputs": [],
   "execution_count": null,
   "source": "",
   "id": "6393c7facda35ba"
  }
 ],
 "metadata": {
  "kernelspec": {
   "display_name": "Python 3",
   "language": "python",
   "name": "python3"
  },
  "language_info": {
   "codemirror_mode": {
    "name": "ipython",
    "version": 2
   },
   "file_extension": ".py",
   "mimetype": "text/x-python",
   "name": "python",
   "nbconvert_exporter": "python",
   "pygments_lexer": "ipython2",
   "version": "2.7.6"
  }
 },
 "nbformat": 4,
 "nbformat_minor": 5
}
